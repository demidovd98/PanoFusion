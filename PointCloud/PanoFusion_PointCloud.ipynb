{
  "nbformat": 4,
  "nbformat_minor": 0,
  "metadata": {
    "colab": {
      "provenance": []
    },
    "kernelspec": {
      "name": "python3",
      "display_name": "Python 3"
    },
    "language_info": {
      "name": "python"
    }
  },
  "cells": [
    {
      "cell_type": "markdown",
      "source": [
        "# **PanoFusion 3D Point Cloud Generation**\n",
        "The below code accepts as input an RGB image and its corresponding Depth map estimation and returns a 3D Point Cloud. Our code includes the following steps:\n",
        "1.   Requirments: The necessary libraries to run the code\n",
        "2.   Image Loading: You need to load you RGB image and its Depth Estimation\n",
        "3.   Point Cloud Creation: At thisstage images will be converted into the suitable format, normalized, then spherical coordinates are computed out of pixel coordinate. Then, the cartesian coordinates are to be computed out of spherical corrdinates.\n",
        "4.   Resolution Control: It an optional step to control the number of points in the point cloud.\n",
        "5.   Saving the Point Cloud: This is the last step where the \"point_cloud.ply\" is saved for later use in visualization tools (we used MeshLab).\n",
        "\n",
        "\n",
        "\n",
        "\n",
        "\n",
        "\n",
        "\n",
        "\n"
      ],
      "metadata": {
        "id": "jTAWjK5Iobrs"
      }
    },
    {
      "cell_type": "markdown",
      "source": [
        "## **1- Requiremnts**\n",
        "\n",
        "*   Purpose: To ensure all necessary libraries and dependencies are installed to run the code.\n",
        "*   Action: Install and import required libraries. This step is crucial for the smooth execution of subsequent steps.\n",
        "\n",
        "\n",
        "\n",
        "\n",
        "\n",
        "\n",
        "\n",
        "\n",
        "\n",
        "\n",
        "\n"
      ],
      "metadata": {
        "id": "AgmizUKWjiAf"
      }
    },
    {
      "cell_type": "code",
      "source": [
        "import numpy as np\n",
        "from PIL import Image\n",
        "import struct"
      ],
      "metadata": {
        "id": "A4O-f7hJdKvz"
      },
      "execution_count": null,
      "outputs": []
    },
    {
      "cell_type": "markdown",
      "source": [
        "## **2- Image Loading**\n",
        "\n",
        "\n",
        "*   Purpose: To input the RGB image and its corresponding Depth Estimation.\n",
        "*   Action: Load both the RGB image and the Depth Map into the script. This is the foundational data from which the Point Cloud will be generated.\n",
        "\n"
      ],
      "metadata": {
        "id": "spuAHkdPdJER"
      }
    },
    {
      "cell_type": "code",
      "source": [
        "# Load the images the RGB and its corresponding Depth map estimaton\n",
        "rgb_image = Image.open('Path_to_rgb_image.png')\n",
        "depth_image = Image.open('path_to_DE_image.png')"
      ],
      "metadata": {
        "id": "U6ihcyU2dLNx"
      },
      "execution_count": null,
      "outputs": []
    },
    {
      "cell_type": "markdown",
      "source": [
        "## **3- Point Cloud Creation**\n",
        "\n",
        "\n",
        "*   Stage 1: Format Conversion & Normalization - The RGB image and Depth Map are converted into a suitable format and normalized to ensure consistency in data processing.\n",
        "*   Stage 2: Spherical Coordinate Computation - Transform pixel coordinates into spherical coordinates. This step is essential for translating 2D image data into a 3D format.\n",
        "*   Stage 3: Cartesian Coordinate Transformation - Convert spherical coordinates into Cartesian coordinates to facilitate the creation of a 3D Point Cloud.\n",
        "\n",
        "\n",
        "\n",
        "\n",
        "\n",
        "\n",
        "\n",
        "\n",
        "\n"
      ],
      "metadata": {
        "id": "yzPUu_LZdI8f"
      }
    },
    {
      "cell_type": "code",
      "source": [
        "# Step 1: Convert the images to numpy arrays\n",
        "rgb_array = np.array(rgb_image)\n",
        "depth_gray_array = np.array(depth_image.convert('L'))\n",
        "\n",
        "# Step 2: Get the height and width of the images\n",
        "H, W, _ = rgb_array.shape\n",
        "\n",
        "# Step 3: Re-initialize lists to store 3D points and colors\n",
        "corrected_points = []\n",
        "corrected_colors = []\n",
        "\n",
        "# Step 4: Iterate through each pixel in the images to regenerate the point cloud\n",
        "for i in range(W):\n",
        "    for j in range(H):\n",
        "        # Step 4.1: Extract color and depth\n",
        "        color = rgb_array[j, i]\n",
        "        depth = depth_gray_array[j, i]\n",
        "\n",
        "        # Step 4.2: Normalize depth to be in the range [0, 1]\n",
        "        depth = depth / 255.0\n",
        "\n",
        "        # Step 4.3: Convert pixel coordinates and depth to spherical coordinates\n",
        "        theta = (i / W) * 2 * np.pi - np.pi\n",
        "        phi = (j / H) * np.pi - np.pi / 2\n",
        "        r = depth\n",
        "\n",
        "        # Step 4.4: Convert spherical coordinates to Cartesian coordinates\n",
        "        x = r * np.cos(phi) * np.cos(theta)\n",
        "        y = r * np.cos(phi) * np.sin(theta)\n",
        "        z = r * np.sin(phi)\n",
        "\n",
        "        # Step 4.5: Append the 3D point and color to the lists\n",
        "        corrected_points.append((x, y, z))\n",
        "        corrected_colors.append(color[:3])\n",
        "\n",
        "# Step 5: Convert lists to numpy arrays\n",
        "corrected_points = np.array(corrected_points, dtype=np.float32)\n",
        "corrected_colors = np.array(corrected_colors, dtype=np.uint8)\n"
      ],
      "metadata": {
        "id": "PXERyLHJdIs1"
      },
      "execution_count": null,
      "outputs": []
    },
    {
      "cell_type": "markdown",
      "source": [
        "## **4- Resolution Control** *(Optional)*\n",
        "\n",
        "\n",
        "*   Purpose: To manage the density of the Point Cloud.\n",
        "*   Action: Adjust the number of points in the Point Cloud. This step is optional and can be used to reduce computational load or to meet specific resolution requirements.\n",
        "\n",
        "\n",
        "\n",
        "\n",
        "\n",
        "\n"
      ],
      "metadata": {
        "id": "j-6JcpEBlZO6"
      }
    },
    {
      "cell_type": "code",
      "source": [
        "#--------------------- This part is to control the resoultion (i.e. number of points you need in your point cloud)------------\n",
        "# Define a smaller subsample factor for higher resolution\n",
        "# the original # higher_res_subsample_factor = 1\n",
        "\n",
        "# Subsample the corrected points and colors with the higher resolution factor\n",
        "# the original # higher_res_subsampled_points = corrected_points[::higher_res_subsample_factor]\n",
        "# the original # higher_res_subsampled_colors = corrected_colors[::higher_res_subsample_factor]\n",
        "#----------------------------------------------------------------------------------------------------------------------------\n",
        "\n",
        "# Define a higher subsample factor for higher resolution (1.5 times the original)\n",
        "higher_res_subsample_factor = 0.67\n",
        "\n",
        "# Subsample the corrected points and colors with the higher resolution factor\n",
        "higher_res_subsampled_points = corrected_points[::int(1 / higher_res_subsample_factor)]\n",
        "higher_res_subsampled_colors = corrected_colors[::int(1 / higher_res_subsample_factor)]\n",
        "\n",
        "# You can uncomment to get the number of points in the sampled point cloud\n",
        "# print(len(higher_res_subsampled_points))"
      ],
      "metadata": {
        "id": "fnx-i1GPlaCe"
      },
      "execution_count": null,
      "outputs": []
    },
    {
      "cell_type": "markdown",
      "source": [
        "## **5- Saving the Point Cloud**\n",
        "\n",
        "*   Purpose: To store the generated Point Cloud for visualization and further analysis.\n",
        "*   Action: Save the Point Cloud in a .ply file format. This file can be used in 3D visualization tools like MeshLab for detailed examination and usage.\n",
        "\n",
        "\n",
        "\n"
      ],
      "metadata": {
        "id": "LEC58V_nnOAU"
      }
    },
    {
      "cell_type": "code",
      "source": [
        "# Redefine the function to save point cloud data as a binary PLY file\n",
        "def save_point_cloud_as_binary_ply(points, colors, file_path):\n",
        "    \"\"\"\n",
        "    Save point cloud data as a binary PLY file.\n",
        "\n",
        "    Args:\n",
        "    points (np.ndarray): An array of 3D coordinates of points.\n",
        "    colors (np.ndarray): An array of RGB color values for each point.\n",
        "    file_path (str): The file path to save the PLY file.\n",
        "    \"\"\"\n",
        "    # Get the number of points\n",
        "    num_points = len(points)\n",
        "\n",
        "    # Open a file in write mode\n",
        "    with open(file_path, 'wb') as f:\n",
        "        # Write the header\n",
        "        f.write(b\"ply\\n\")\n",
        "        f.write(b\"format binary_little_endian 1.0\\n\")\n",
        "        f.write(\"element vertex {}\\n\".format(num_points).encode('utf-8'))\n",
        "        f.write(b\"property float x\\n\")\n",
        "        f.write(b\"property float y\\n\")\n",
        "        f.write(b\"property float z\\n\")\n",
        "        f.write(b\"property uchar red\\n\")\n",
        "        f.write(b\"property uchar green\\n\")\n",
        "        f.write(b\"property uchar blue\\n\")\n",
        "        f.write(b\"end_header\\n\")\n",
        "\n",
        "        # Write the points and colors in binary format\n",
        "        for point, color in zip(points, colors):\n",
        "            f.write(struct.pack(\"<fffBBB\", point[0], point[1], point[2], color[0], color[1], color[2]))\n",
        "        print (num_points)\n",
        "\n",
        "\n",
        "# Define the output file path for the higher resolution binary PLY file\n",
        "higher_res_output_binary_ply_file_path = 'Path_to_save_you_point_cloud.ply'\n",
        "2\n",
        "# Save the higher resolution subsampled point cloud as a binary PLY file\n",
        "save_point_cloud_as_binary_ply(higher_res_subsampled_points, higher_res_subsampled_colors, higher_res_output_binary_ply_file_path)\n",
        "\n",
        "# Return the output file path\n",
        "higher_res_output_binary_ply_file_path"
      ],
      "metadata": {
        "id": "Eo0f9AnMnQi0"
      },
      "execution_count": null,
      "outputs": []
    }
  ]
}